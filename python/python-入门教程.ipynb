{
 "cells": [
  {
   "cell_type": "markdown",
   "metadata": {},
   "source": [
    "# 格式化输出\n",
    "## % 用法\n",
    "### 整数输出\n",
    "- %o —— oct 八进制\n",
    "- %d —— dec 十进制\n",
    "- %x —— hex 十六进制"
   ]
  },
  {
   "cell_type": "code",
   "execution_count": 1,
   "metadata": {},
   "outputs": [
    {
     "name": "stdout",
     "output_type": "stream",
     "text": [
      "24\n",
      "20\n",
      "14\n"
     ]
    }
   ],
   "source": [
    "print('%o' % 20)\n",
    "print('%d' % 20)\n",
    "print('%x' % 20)"
   ]
  },
  {
   "cell_type": "markdown",
   "metadata": {},
   "source": [
    "### 浮点数输出\n",
    "\n",
    "#### 格式化输出\n",
    "\n",
    "- %f ——保留小数点后面六位有效数字\n",
    "    - %.3f，保留3位小数位\n",
    "- %e ——保留小数点后面六位有效数字，指数形式输出\n",
    "    - %.3e，保留3位小数位，使用科学计数法\n",
    "- %g ——在保证六位有效数字的前提下，使用小数方式，否则使用科学计数法\n",
    "    - %.3g，保留3位有效数字，使用小数或科学计数法"
   ]
  },
  {
   "cell_type": "code",
   "execution_count": 2,
   "metadata": {},
   "outputs": [
    {
     "name": "stdout",
     "output_type": "stream",
     "text": [
      "1.110000\n",
      "1.1\n",
      "1.110000e+00\n",
      "1.110e+00\n",
      "1111.11\n",
      "1111.111\n",
      "1.1e+03\n"
     ]
    }
   ],
   "source": [
    "print('%f' % 1.11)  # 默认保留6位小数\n",
    "print('%.1f' % 1.11)  # 取1位小数\n",
    "print('%e' % 1.11)  # 默认6位小数，用科学计数法\n",
    "print('%.3e' % 1.11)  # 取3位小数，用科学计数法\n",
    "print('%g' % 1111.1111)  # 默认6位有效数字\n",
    "print('%.7g' % 1111.1111)  # 取7位有效数字\n",
    "print('%.2g' % 1111.1111)  # 取2位有效数字，自动转换为科学计数法"
   ]
  },
  {
   "cell_type": "markdown",
   "metadata": {},
   "source": [
    "#### 内置round()\n",
    "\n",
    "```round(number[, ndigits])```\n",
    "\n",
    "参数：</br>\n",
    " - number - 这是一个数字表达式。\n",
    " - ndigits - 表示从小数点到最后四舍五入的位数。默认值为0。\n",
    "\n",
    "返回值: </br>\n",
    "该方法返回x的小数点舍入为n位数后的值。\n",
    "\n",
    "> 碰到.5的情况时，如果要取舍的位数前的小数是奇数，则直接舍弃，如果是偶数则向上取舍。\n",
    "\n",
    "> 注：“.5”这个是一个“坑”，且python2和python3出来的接口有时候是不一样的，尽量避免使用round()函数吧"
   ]
  },
  {
   "cell_type": "code",
   "execution_count": 5,
   "metadata": {},
   "outputs": [
    {
     "name": "stdout",
     "output_type": "stream",
     "text": [
      "1\n",
      "1.113\n",
      "1.113\n",
      "2\n",
      "2\n",
      "1.68\n",
      "2.67\n"
     ]
    }
   ],
   "source": [
    "print(round(1.1125))  # 四舍五入，不指定位数，取整\n",
    "print(round(1.1135,3))  # 取3位小数，由于3为奇数，则向下“舍”\n",
    "print(round(1.1125,3))  # 取3位小数，由于2为偶数，则向上“入”\n",
    "print(round(1.5))  # 无法理解，查阅一些资料是说python会对数据进行截断，没有深究\n",
    "print(round(2.5))  # 无法理解\n",
    "print(round(1.675,2))  # 无法理解\n",
    "print(round(2.675,2))  # 无法理解"
   ]
  },
  {
   "cell_type": "markdown",
   "metadata": {},
   "source": [
    "### 3 字符串输出\n",
    "- %s\n",
    "- %10s    ——右对齐，占位符10位\n",
    "- %-10s   ——左对齐，占位符10位\n",
    "- %.2s    ——截取2位字符串\n",
    "- %10.2s  ——10位占位符，截取两位字符串"
   ]
  },
  {
   "cell_type": "code",
   "execution_count": 6,
   "metadata": {},
   "outputs": [
    {
     "name": "stdout",
     "output_type": "stream",
     "text": [
      "hello world\n",
      "         hello world\n",
      "hello world         \n",
      "he\n",
      "        he\n",
      "he        \n"
     ]
    }
   ],
   "source": [
    "print('%s' % 'hello world')  # 字符串输出\n",
    "print('%20s' % 'hello world')  # 右对齐，取20位，不够则补位\n",
    "print('%-20s' % 'hello world')  # 左对齐，取20位，不够则补位\n",
    "print('%.2s' % 'hello world')  # 取2位\n",
    "print('%10.2s' % 'hello world')  # 右对齐，取2位\n",
    "print('%-10.2s' % 'hello world')  # 左对齐，取2位"
   ]
  },
  {
   "cell_type": "markdown",
   "metadata": {},
   "source": [
    "### 4 其他\n",
    "#### 4.1 格式代码\n",
    "| 符号  | 说明  |\n",
    "|:-------:|:-------:|\n",
    "|%s     |字符串 |\n",
    "|%c     |字符   |\n",
    "|%d     |十进制整数 |\n",
    "|%o     |八进制整数 |\n",
    "|%x     |十六进制整数 |\n",
    "|%X     |十六进制整数(大写) |\n",
    "|%i     |整数 |\n",
    "|%u     |无符号整数 |\n",
    "|%f     |浮点数格式1 |\n",
    "|%e     |浮点数格式2 |\n",
    "|%E     |浮点数格式3 |\n",
    "|%g     |浮点数格式4 |\n",
    "|%G     |浮点数格式5 |\n",
    "|%%     |% |\n",
    "\n",
    "#### 4.2 常用转义字符\n",
    "| 转义字符  | 描述  |\n",
    "|:---------:|:-----:|\n",
    "|\\\\(行尾)   | 续行符    |\n",
    "|\\\\\\\\       | 反斜杠符号    |\n",
    "|\\'         | 单引号    |\n",
    "|\\\"         | 双引号    |\n",
    "|\\n         | 换行      |\n",
    "|\\v         | 纵向制表符    |\n",
    "|\\t         | 横向制表符    |\n",
    "|\\r         | 回车      |\n",
    "|\\f         | 换页      |\n"
   ]
  },
  {
   "cell_type": "markdown",
   "metadata": {},
   "source": [
    "## format 用法\n",
    "相对基本格式化输出采用‘%’的方法，format()功能更强大，该函数把字符串当成一个模板，通过传入的参数进行格式化，并且使用大括号‘{}’作为特殊字符代替‘%’"
   ]
  },
  {
   "cell_type": "markdown",
   "metadata": {},
   "source": [
    "### 位置匹配\n",
    "1. 不带编号，即“{}”\n",
    "2. 带数字编号，可调换顺序，即“{1}”、“{2}”\n",
    "3. 带关键字，即“{a}”、“{tom}”"
   ]
  },
  {
   "cell_type": "code",
   "execution_count": 15,
   "metadata": {},
   "outputs": [
    {
     "name": "stdout",
     "output_type": "stream",
     "text": [
      "hello world\n",
      "hello world\n",
      "hello world hello\n",
      "world world hello\n",
      "world hello world\n"
     ]
    }
   ],
   "source": [
    "print('{} {}'.format('hello','world'))  # 不带字段\n",
    "print('{0} {1}'.format('hello','world'))  # 带数字编号\n",
    "print('{0} {1} {0}'.format('hello','world'))  # 打乱顺序\n",
    "print('{1} {1} {0}'.format('hello','world'))\n",
    "print('{a} {tom} {a}'.format(tom='hello',a='world'))  # 带关键字"
   ]
  },
  {
   "cell_type": "code",
   "execution_count": 7,
   "metadata": {},
   "outputs": [
    {
     "name": "stdout",
     "output_type": "stream",
     "text": [
      "Coordinates: 37.24N, -115.81W\n"
     ]
    }
   ],
   "source": [
    "# 通过名字匹配\n",
    "coord = {'latitude': '37.24N', 'longitude': '-115.81W'}\n",
    "print('Coordinates: {latitude}, {longitude}'.format(**coord))"
   ]
  },
  {
   "cell_type": "code",
   "execution_count": 14,
   "metadata": {},
   "outputs": [
    {
     "name": "stdout",
     "output_type": "stream",
     "text": [
      "The complex number (3-5j) is formed from the real part 3.0 and the imaginary part -5.0.\n"
     ]
    }
   ],
   "source": [
    "# 通过对象属性匹配\n",
    "c = 3-5j\n",
    "print('The complex number {0} is formed from the real part {0.real} ' \\\n",
    "      'and the imaginary part {0.imag}.'.format(c))"
   ]
  },
  {
   "cell_type": "code",
   "execution_count": 16,
   "metadata": {},
   "outputs": [
    {
     "name": "stdout",
     "output_type": "stream",
     "text": [
      "X: 3;  Y: 5\n",
      "X: test_a;  Y: test_b\n"
     ]
    }
   ],
   "source": [
    "# 通过下标或key匹配\n",
    "coord = (3, 5)\n",
    "print('X: {0[0]};  Y: {0[1]}'.format(coord))\n",
    "a = {'a': 'test_a', 'b': 'test_b'}\n",
    "print('X: {0[a]};  Y: {0[b]}'.format(a))"
   ]
  },
  {
   "cell_type": "markdown",
   "metadata": {},
   "source": [
    "### 格式转换\n",
    "\n",
    "- 'b' - 二进制。将数字以2为基数进行输出。\n",
    "- 'c' - 字符。在打印之前将整数转换成对应的Unicode字符串。\n",
    "- 'd' - 十进制整数。将数字以10为基数进行输出。\n",
    "- 'o' - 八进制。将数字以8为基数进行输出。\n",
    "- 'x' - 十六进制。将数字以16为基数进行输出，9以上的位数用小写字母。\n",
    "- 'e' - 幂符号。用科学计数法打印数字。用'e'表示幂。\n",
    "- 'g' - 一般格式。将数值以fixed-point格式输出。当数值特别大的时候，用幂形式打印。\n",
    "- 'n' - 数字。当值为整数时和'd'相同，值为浮点数时和'g'相同。不同的是它会根据区域设置插入数字分隔符。\n",
    "- '%' - 百分数。将数值乘以100然后以fixed-point('f')格式打印，值后面会有一个百分号。"
   ]
  },
  {
   "cell_type": "code",
   "execution_count": 17,
   "metadata": {},
   "outputs": [
    {
     "name": "stdout",
     "output_type": "stream",
     "text": [
      "11\n",
      "\u0014\n",
      "20\n",
      "24\n",
      "14\n",
      "2.000000e+01\n",
      "20.1\n",
      "20.000000\n",
      "20\n",
      "2000.000000%\n"
     ]
    }
   ],
   "source": [
    "print('{0:b}'.format(3))\n",
    "print('{:c}'.format(20))\n",
    "print('{:d}'.format(20))\n",
    "print('{:o}'.format(20))\n",
    "print('{:x}'.format(20))\n",
    "print('{:e}'.format(20))\n",
    "print('{:g}'.format(20.1))\n",
    "print('{:f}'.format(20))\n",
    "print('{:n}'.format(20))\n",
    "print('{:%}'.format(20))"
   ]
  },
  {
   "cell_type": "markdown",
   "metadata": {},
   "source": [
    "### 进阶用法\n",
    "\n",
    "#### 进制转换"
   ]
  },
  {
   "cell_type": "code",
   "execution_count": 19,
   "metadata": {},
   "outputs": [
    {
     "name": "stdout",
     "output_type": "stream",
     "text": [
      "int: 42;  hex: 2a;  oct: 52;  bin: 101010\n",
      "int: 42;  hex: 0x2a;  oct: 0o52;  bin: 0b101010\n"
     ]
    }
   ],
   "source": [
    "# 2进制 8进制 10进制 16进制\n",
    "# format also supports binary numbers\n",
    "print(\"int: {0:d};  hex: {0:x};  oct: {0:o};  bin: {0:b}\".format(42))\n",
    "\n",
    "# with 0x, 0o, or 0b as prefix:\n",
    "print(\"int: {0:d};  hex: {0:#x};  oct: {0:#o};  bin: {0:#b}\".format(42))  # 在前面加“#”，则带进制前缀"
   ]
  },
  {
   "cell_type": "markdown",
   "metadata": {},
   "source": [
    "#### 左中右对齐及位数补全\n",
    "1. < （默认）左对齐、> 右对齐、^ 中间对齐、= （只用于数字）在小数点后进行补齐\n",
    "2. 取位数“{:4s}”、\"{:.2f}\"等"
   ]
  },
  {
   "cell_type": "code",
   "execution_count": 21,
   "metadata": {
    "scrolled": true
   },
   "outputs": [
    {
     "name": "stdout",
     "output_type": "stream",
     "text": [
      "hello and world\n",
      "hello      and      world\n",
      "  hello    and   world   \n",
      "1.123 is 1.12\n",
      "1.123 is       1.12\n",
      "left aligned                  \n",
      "                 right aligned\n",
      "           centered           \n",
      "***********centered***********\n",
      "000000000000000000000000000011\n"
     ]
    }
   ],
   "source": [
    "# 左中右对齐及位数补齐\n",
    "\n",
    "# 默认左对齐\n",
    "print('{} and {}'.format('hello','world'))  \n",
    "\n",
    "# 取10位左对齐，取10位右对齐\n",
    "print('{:10s} and {:>10s}'.format('hello','world'))  \n",
    "\n",
    "# 取10位中间对齐\n",
    "print('{:^10s} and {:^10s}'.format('hello','world'))  \n",
    "\n",
    "# 取2位小数\n",
    "print('{} is {:.2f}'.format(1.123,1.123))  \n",
    "\n",
    "# 取2位小数，右对齐，取10位\n",
    "print('{0} is {0:>10.2f}'.format(1.123))  \n",
    "\n",
    "# 左对齐\n",
    "print('{:<30}'.format('left aligned'))  \n",
    "\n",
    "# 右对齐\n",
    "print('{:>30}'.format('right aligned'))\n",
    "      \n",
    "# 中间对齐\n",
    "print('{:^30}'.format('centered'))\n",
    "\n",
    "# 使用“*”填充\n",
    "print('{:*^30}'.format('centered'))\n",
    "\n",
    "# 还有“=”只能应用于数字，这种方法可用“>”代替\n",
    "print('{:0=30}'.format(11))  "
   ]
  },
  {
   "cell_type": "code",
   "execution_count": 22,
   "metadata": {},
   "outputs": [
    {
     "name": "stdout",
     "output_type": "stream",
     "text": [
      "+3.140000; -3.140000\n",
      " 3.140000; -3.140000\n",
      "3.140000; -3.140000\n"
     ]
    }
   ],
   "source": [
    "#### 正负符号显示\n",
    "\n",
    "# 总是显示符号\n",
    "print('{:+f}; {:+f}'.format(3.14, -3.14))\n",
    "\n",
    "# 若是+数，则在前面留空格\n",
    "print('{: f}; {: f}'.format(3.14, -3.14))\n",
    "\n",
    "# -数时显示-，与'{:f}; {:f}'一致\n",
    "print('{:-f}; {:-f}'.format(3.14, -3.14))"
   ]
  },
  {
   "cell_type": "code",
   "execution_count": 23,
   "metadata": {},
   "outputs": [
    {
     "name": "stdout",
     "output_type": "stream",
     "text": [
      "Correct answers: 86.36%\n"
     ]
    }
   ],
   "source": [
    "#### 百分号%\n",
    "points = 19\n",
    "total = 22\n",
    "print('Correct answers: {:.2%}'.format(points/total))"
   ]
  },
  {
   "cell_type": "code",
   "execution_count": 24,
   "metadata": {},
   "outputs": [
    {
     "name": "stdout",
     "output_type": "stream",
     "text": [
      "2010-07-04 12:15:58\n"
     ]
    }
   ],
   "source": [
    "#### 时间\n",
    "import datetime\n",
    "d = datetime.datetime(2010, 7, 4, 12, 15, 58)\n",
    "print('{:%Y-%m-%d %H:%M:%S}'.format(d))"
   ]
  },
  {
   "cell_type": "code",
   "execution_count": 25,
   "metadata": {},
   "outputs": [
    {
     "name": "stdout",
     "output_type": "stream",
     "text": [
      "1,234,567,890\n"
     ]
    }
   ],
   "source": [
    "#### 逗号\",\" 分割\n",
    "print('{:,}'.format(1234567890))"
   ]
  },
  {
   "cell_type": "code",
   "execution_count": 27,
   "metadata": {},
   "outputs": [
    {
     "name": "stdout",
     "output_type": "stream",
     "text": [
      "left<<<<<<<<<<<<\n",
      "^^^^^center^^^^^\n",
      ">>>>>>>>>>>right\n"
     ]
    }
   ],
   "source": [
    "#### 占位符嵌套\n",
    "\n",
    "for align, text in zip('<^>', ['left', 'center', 'right']):\n",
    "    print('{0:{fill}{align}16}'.format(text, fill=align, align=align))"
   ]
  },
  {
   "cell_type": "code",
   "execution_count": 28,
   "metadata": {},
   "outputs": [
    {
     "name": "stdout",
     "output_type": "stream",
     "text": [
      "C0A80001\n"
     ]
    }
   ],
   "source": [
    "octets = [192, 168, 0, 1]\n",
    "print('{:02X}{:02X}{:02X}{:02X}'.format(*octets))"
   ]
  },
  {
   "cell_type": "code",
   "execution_count": 29,
   "metadata": {},
   "outputs": [
    {
     "name": "stdout",
     "output_type": "stream",
     "text": [
      "    5     5     5   101 \n",
      "    6     6     6   110 \n",
      "    7     7     7   111 \n",
      "    8     8    10  1000 \n",
      "    9     9    11  1001 \n",
      "   10     A    12  1010 \n",
      "   11     B    13  1011 \n"
     ]
    }
   ],
   "source": [
    "width = 5\n",
    "for num in range(5,12):\n",
    "    for base in 'dXob':\n",
    "        print('{0:{width}{base}}'.format(num, base=base, width=width), end=' ')\n",
    "    print()"
   ]
  },
  {
   "cell_type": "code",
   "execution_count": 30,
   "metadata": {},
   "outputs": [
    {
     "name": "stdout",
     "output_type": "stream",
     "text": [
      "repr() shows quotes: 'test1'; str() doesn't: test2\n"
     ]
    }
   ],
   "source": [
    "#### 占位符%s和%r\n",
    "\n",
    "# replacement_field ::= \"{\" [field_name] [\"!\" conversion] [\":\" format_spec] \"}\"\n",
    "# conversion ::= \"r\" | \"s\" | \"a\"\n",
    "# 这里只有三个转换符号，用\"!\"开头。\n",
    "# \"!r\"对应 repr()；\"!s\"对应 str(); \"!a\"对应ascii()。\n",
    "\n",
    "print(\"repr() shows quotes: {!r}; str() doesn't: {!s}\".format('test1', 'test2'))"
   ]
  },
  {
   "cell_type": "markdown",
   "metadata": {},
   "source": [
    "### format的变形用法 "
   ]
  },
  {
   "cell_type": "code",
   "execution_count": 31,
   "metadata": {},
   "outputs": [
    {
     "name": "stdout",
     "output_type": "stream",
     "text": [
      "hello world\n"
     ]
    }
   ],
   "source": [
    "# f\"xxxx\"# 可在字符串前加f以达到格式化的目的，在{}里加入对象，此为format的另一种形式：\n",
    "a = \"hello\"\n",
    "b = \"world\"\n",
    "print(f\"{a} {b}\")"
   ]
  },
  {
   "cell_type": "code",
   "execution_count": 32,
   "metadata": {},
   "outputs": [
    {
     "name": "stdout",
     "output_type": "stream",
     "text": [
      "my name is Jack.\n",
      "I am ****18**** years old.\n",
      "I am a man\n",
      "My salary is   9999.990\n"
     ]
    }
   ],
   "source": [
    "name = 'jack'\n",
    "age = 18\n",
    "sex = 'man'\n",
    "job = \"IT\"\n",
    "salary = 9999.99\n",
    "\n",
    "print(f'my name is {name.capitalize()}.')\n",
    "print(f'I am {age:*^10} years old.')\n",
    "print(f'I am a {sex}')\n",
    "print(f'My salary is {salary:10.3f}')"
   ]
  },
  {
   "cell_type": "markdown",
   "metadata": {},
   "source": [
    "# 字符串处理"
   ]
  },
  {
   "cell_type": "code",
   "execution_count": 33,
   "metadata": {},
   "outputs": [
    {
     "name": "stdout",
     "output_type": "stream",
     "text": [
      "A#afsfdf222#\n",
      "%%%%a#afsfdf222#%%%%\n",
      "3\n",
      "True\n",
      "3\n",
      "3\n",
      "False\n",
      "False\n",
      "False\n",
      "a_#_a_f_s_f_d_f_2_2_2_#\n",
      "A#AFSFDF222#\n",
      "a#afsfdf222#\n",
      "a#afsfdf222\n",
      "['a', 'afsfdf222', '']\n",
      "a*afsfdf222#\n"
     ]
    }
   ],
   "source": [
    "s = 'a#afsfdf222#'\n",
    "print(s.capitalize())   # 首字母大写其他字母小写\n",
    "print(s.center(20, '%'))    # 居中并在空白处添加指定字符\n",
    "print(s.count('f'))     # 统计f元素在字符串s中出现的次数\n",
    "print(s.endswith('f', 1, 8))    # 判断以xxx结束\n",
    "print(s.find('f', 2, 5))  # 找到第一个，并返回其索引，找不到返回-1\n",
    "print(s.index('f', 2, 5))     # 找到第一个，并返其回索引，找不到报错\n",
    "print(s.isalnum())  # 判断是否有字母和数字 返回一个bool值 满足条件返回True\n",
    "print(s.isalpha())  # 判断是否只有字母组成 返回一个bool值 满足条件返回True\n",
    "print(s.isdigit())  # 判断是否只有数字组成 返回一个bool值 满足条件返回True\n",
    "print('_'.join(s))  # 把字符迭代添加到字符串中\n",
    "print(s.upper())    # 把字符串字母全部大写\n",
    "print(s.lower())    # 把字符串字母全部小写\n",
    "print(s.strip('#'))      # 去除字符串前后空格(默认)，特殊字符***\n",
    "print(s.split('#', 2))        # 分割字符串，默认按空格分，可指定分割次数***\n",
    "print(s.replace('#', '*', 1))   # 替换字符串中的字符 可指定修改字符和修改个数***"
   ]
  },
  {
   "cell_type": "markdown",
   "metadata": {},
   "source": [
    "# 列表（list)处理"
   ]
  },
  {
   "cell_type": "code",
   "execution_count": 36,
   "metadata": {},
   "outputs": [],
   "source": [
    "li = [1, 2, 3, 6, 9]"
   ]
  },
  {
   "cell_type": "markdown",
   "metadata": {},
   "source": [
    "## 增"
   ]
  },
  {
   "cell_type": "code",
   "execution_count": 37,
   "metadata": {},
   "outputs": [
    {
     "name": "stdout",
     "output_type": "stream",
     "text": [
      "[1, 2, 3, 6, 9, 22]\n",
      "[1, 2, 3, 6, 9, 22, 33, 66]\n",
      "[33, 1, 2, 3, 6, 9, 22, 33, 66]\n",
      "[33, 1, 2, 3, 6, 9, 22, 33, 66, 11, 44]\n"
     ]
    }
   ],
   "source": [
    "li.append(22)     # 在列表后追加\n",
    "print(li)\n",
    "\n",
    "li += [33, 66]\n",
    "print(li)\n",
    "\n",
    "li.insert(0, 33)      # 按索引插入\n",
    "print(li)\n",
    "\n",
    "li.extend([11, 44])     # 迭代添加，逐个添加字符串中的字符，逐个添加列表中的元素\n",
    "print(li)"
   ]
  },
  {
   "cell_type": "markdown",
   "metadata": {},
   "source": [
    "## 改"
   ]
  },
  {
   "cell_type": "code",
   "execution_count": 38,
   "metadata": {},
   "outputs": [
    {
     "name": "stdout",
     "output_type": "stream",
     "text": [
      "[1, 2, 3, 6, 9, 11, 22, 33, 33, 44, 66]\n",
      "[1, 3, 5, 6, 9]\n",
      "[9, 6, 5, 3, 1]\n",
      "[9, 6, 5, 3, 1]\n",
      "[1, 3, 5, 6, 9]\n",
      "[9, 6, 5, 3, 1]\n",
      "[9, 6, 5, 3, 1]\n"
     ]
    }
   ],
   "source": [
    "\n",
    "li.sort()   # 对列表中的元素排序\n",
    "print(li)\n",
    "\n",
    "# 同样作用\n",
    "# sorted(li)\n",
    "# print(li)\n",
    "\n",
    "l1 = [1, 3, 6, 9, 5]\n",
    "l1.sort()\n",
    "print(l1)    # 从小到大排序\n",
    "l1.sort(reverse=True)   # 从大到小排序\n",
    "print(l1)\n",
    "\n",
    "#sorted 产生一个新列表\n",
    "l2 = sorted(l1)   # 从小到大排序\n",
    "print(l1)   # l1没有变化\n",
    "print(l2)\n",
    "\n",
    "l3 = sorted(l1, reverse=True)   # 从大到小排序\n",
    "print(l1)   # l1没有变化\n",
    "print(l3)"
   ]
  },
  {
   "cell_type": "markdown",
   "metadata": {},
   "source": [
    "## 删"
   ]
  },
  {
   "cell_type": "code",
   "execution_count": 39,
   "metadata": {},
   "outputs": [
    {
     "name": "stdout",
     "output_type": "stream",
     "text": [
      "[1, 2, 3, 9, 11, 22, 33, 33, 44, 66]\n",
      "[1, 2, 3, 9, 11, 22, 33, 44, 66]\n",
      "[]\n"
     ]
    }
   ],
   "source": [
    "# 删\n",
    "li.pop(3)        # 按索引删除列表中的元素，参数为空则删除最后一个元素\n",
    "print(li)\n",
    "li.remove(33)     # 按元素删\n",
    "print(li)\n",
    "li.clear()      # 清空列表\n",
    "print(li)\n",
    "del li          # 从内存中删除列表"
   ]
  },
  {
   "cell_type": "markdown",
   "metadata": {},
   "source": [
    "# json操作"
   ]
  },
  {
   "cell_type": "markdown",
   "metadata": {},
   "source": [
    "JSON在python中分别由list和dict组成。\n",
    "\n",
    "这是用于序列化的两个模块：\n",
    "\n",
    "json: 用于字符串和python数据类型间进行转换\n",
    "pickle： 用于python特有的类型和python的数据类型间进行转换\n",
    "\n",
    "Json和pickle模块各提供了四个功能：\n",
    "- dumps，数据类型转换成字符串\n",
    "- dump，数据类型转换成字符串并存储在文件中\n",
    "- loads，把字符串转换成数据类型 \n",
    "- load，把文件打开从字符串转换成数据类型"
   ]
  },
  {
   "cell_type": "markdown",
   "metadata": {},
   "source": [
    "## dumps"
   ]
  },
  {
   "cell_type": "markdown",
   "metadata": {},
   "source": [
    "将python中的\"字典\"转换为\"字符串\""
   ]
  },
  {
   "cell_type": "code",
   "execution_count": 47,
   "metadata": {
    "scrolled": true
   },
   "outputs": [
    {
     "name": "stdout",
     "output_type": "stream",
     "text": [
      "{'bigberg': [7600, {1: [['iPhone', 6300], ['Bike', 800], ['shirt', 300]]}]}\n",
      "<class 'dict'>\n",
      "{\"bigberg\": [7600, {\"1\": [[\"iPhone\", 6300], [\"Bike\", 800], [\"shirt\", 300]]}]}\n",
      "<class 'str'>\n"
     ]
    }
   ],
   "source": [
    "import json\n",
    "import os\n",
    "\n",
    "test_dict = {'bigberg': [7600, {1: [['iPhone', 6300], ['Bike', 800], ['shirt', 300]]}]}\n",
    "print(test_dict)\n",
    "print(type(test_dict))\n",
    "# dumps 将数据转换成字符串\n",
    "json_str = json.dumps(test_dict)\n",
    "print(json_str)\n",
    "print(type(json_str))"
   ]
  },
  {
   "cell_type": "markdown",
   "metadata": {},
   "source": [
    "**进阶用法**:"
   ]
  },
  {
   "cell_type": "code",
   "execution_count": 44,
   "metadata": {
    "scrolled": true
   },
   "outputs": [
    {
     "name": "stdout",
     "output_type": "stream",
     "text": [
      "{\n",
      "  \"bigberg\": [\n",
      "    7600,\n",
      "    {\n",
      "      \"1\": [\n",
      "        [\n",
      "          \"iPhone\",\n",
      "          6300\n",
      "        ],\n",
      "        [\n",
      "          \"Bike\",\n",
      "          800\n",
      "        ],\n",
      "        [\n",
      "          \"shirt\",\n",
      "          300\n",
      "        ]\n",
      "      ]\n",
      "    }\n",
      "  ]\n",
      "}\n"
     ]
    }
   ],
   "source": [
    "# indent，为多行缩进空格数\n",
    "# sort_keys，为是否按键排序\n",
    "# ensure_ascii=False，为不确保ascii，及不将中文等特殊字符转为\\uXXX等\n",
    "json_str = json.dumps(test_dict, indent=2, sort_keys=True,  ensure_ascii=False)\n",
    "print(json_str)"
   ]
  },
  {
   "cell_type": "markdown",
   "metadata": {},
   "source": [
    "## loads\n",
    "将\"字符串\"转换为\"字典\""
   ]
  },
  {
   "cell_type": "code",
   "execution_count": 45,
   "metadata": {},
   "outputs": [
    {
     "name": "stdout",
     "output_type": "stream",
     "text": [
      "{'bigberg': [7600, {'1': [['iPhone', 6300], ['Bike', 800], ['shirt', 300]]}]}\n",
      "<class 'dict'>\n"
     ]
    }
   ],
   "source": [
    "new_dict = json.loads(json_str)\n",
    "print(new_dict)\n",
    "print(type(new_dict))"
   ]
  },
  {
   "cell_type": "markdown",
   "metadata": {},
   "source": [
    "## dump\n",
    "将数据写入json文件中"
   ]
  },
  {
   "cell_type": "code",
   "execution_count": 50,
   "metadata": {},
   "outputs": [
    {
     "name": "stdout",
     "output_type": "stream",
     "text": [
      "加载入文件完成...\n"
     ]
    }
   ],
   "source": [
    "with open(\"./record.json\",\"w\") as f:\n",
    "    json.dump(new_dict,f)\n",
    "    # 或\n",
    "    # json.dump(new_dict, f,indent=2,sort_keys=True, ensure_ascii=False) \n",
    "    print(\"加载入文件完成...\")"
   ]
  },
  {
   "cell_type": "markdown",
   "metadata": {},
   "source": [
    "## load\n",
    "把文件打开，并把字符串变换为数据类型"
   ]
  },
  {
   "cell_type": "code",
   "execution_count": 51,
   "metadata": {},
   "outputs": [
    {
     "name": "stdout",
     "output_type": "stream",
     "text": [
      "{'bigberg': [7600, {'1': [['iPhone', 6300], ['Bike', 800], ['shirt', 300]]}]}\n",
      "{'bigberg': [7600, {'1': [['iPhone', 6300], ['Bike', 800], ['shirt', 300]]}], 'smallberg': [8200, {1: [['Python', 81], ['shirt', 300]]}]}\n"
     ]
    }
   ],
   "source": [
    "with open(\"./record.json\",'r') as load_f:\n",
    "    load_dict = json.load(load_f)\n",
    "    print(load_dict)\n",
    "    \n",
    "load_dict['smallberg'] = [8200,{1:[['Python',81],['shirt',300]]}]\n",
    "print(load_dict)\n",
    "\n",
    "with open(\"./record.json\",\"w\") as dump_f:\n",
    "    json.dump(load_dict, dump_f)"
   ]
  },
  {
   "cell_type": "markdown",
   "metadata": {},
   "source": [
    "## dumps"
   ]
  },
  {
   "cell_type": "markdown",
   "metadata": {},
   "source": [
    "# 参考资料\n",
    "1. [python基础_格式化输出（%用法和format用法）](https://www.cnblogs.com/qinchao0317/p/10699717.html)\n",
    "2. [python读写json文件](https://www.cnblogs.com/bigberg/p/6430095.html)"
   ]
  }
 ],
 "metadata": {
  "kernelspec": {
   "display_name": "Python 3",
   "language": "python",
   "name": "python3"
  },
  "language_info": {
   "codemirror_mode": {
    "name": "ipython",
    "version": 3
   },
   "file_extension": ".py",
   "mimetype": "text/x-python",
   "name": "python",
   "nbconvert_exporter": "python",
   "pygments_lexer": "ipython3",
   "version": "3.8.5"
  },
  "toc": {
   "base_numbering": 1,
   "nav_menu": {},
   "number_sections": true,
   "sideBar": true,
   "skip_h1_title": false,
   "title_cell": "Table of Contents",
   "title_sidebar": "Contents",
   "toc_cell": false,
   "toc_position": {},
   "toc_section_display": true,
   "toc_window_display": true
  }
 },
 "nbformat": 4,
 "nbformat_minor": 4
}
