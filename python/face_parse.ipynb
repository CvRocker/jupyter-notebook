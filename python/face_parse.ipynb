{
 "cells": [
  {
   "cell_type": "code",
   "execution_count": 48,
   "metadata": {},
   "outputs": [],
   "source": [
    "import os\n",
    "import json\n",
    "\n",
    "import util.file_util as util"
   ]
  },
  {
   "cell_type": "code",
   "execution_count": null,
   "metadata": {},
   "outputs": [],
   "source": [
    "# 云测数据\n",
    "\n",
    "\n",
    "file_folder = \n",
    "\n"
   ]
  },
  {
   "cell_type": "markdown",
   "metadata": {},
   "source": [
    "# main函数"
   ]
  },
  {
   "cell_type": "code",
   "execution_count": 51,
   "metadata": {},
   "outputs": [
    {
     "name": "stdout",
     "output_type": "stream",
     "text": [
      "{Exception('not found any img file in ../../test/porn_baby.tar.gz',)}\n",
      "{Exception('not found any img file in ../../test/test',)}\n",
      "file : ../../test/test.cpp\n",
      "file : ../../test/world.o\n",
      "file : ../../test/hello.o\n",
      "file : ../../test/world.cpp\n",
      "file : ../../test/hello.cpp\n"
     ]
    }
   ],
   "source": [
    "def main():\n",
    "    files_list = []\n",
    "    try:\n",
    "        files_list = util.get_file_list('../../test/', ['.mod', '.txt', '.cpp', '.o'], 1)\n",
    "    except Exception as e: \n",
    "        print({e})\n",
    "    else:\n",
    "        pass\n",
    "        \n",
    "    \n",
    "    for single_file in files_list:        \n",
    "        print(f'file : {single_file}')\n",
    "\n",
    "    \n",
    "if __name__ == '__main__':\n",
    "    main()"
   ]
  }
 ],
 "metadata": {
  "kernelspec": {
   "display_name": "Python 3",
   "language": "python",
   "name": "python3"
  },
  "language_info": {
   "codemirror_mode": {
    "name": "ipython",
    "version": 3
   },
   "file_extension": ".py",
   "mimetype": "text/x-python",
   "name": "python",
   "nbconvert_exporter": "python",
   "pygments_lexer": "ipython3",
   "version": "3.6.9"
  },
  "toc": {
   "base_numbering": 1,
   "nav_menu": {},
   "number_sections": true,
   "sideBar": true,
   "skip_h1_title": false,
   "title_cell": "Table of Contents",
   "title_sidebar": "Contents",
   "toc_cell": false,
   "toc_position": {},
   "toc_section_display": true,
   "toc_window_display": false
  }
 },
 "nbformat": 4,
 "nbformat_minor": 4
}
